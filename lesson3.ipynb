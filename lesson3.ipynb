{
 "cells": [
  {
   "cell_type": "code",
   "execution_count": 1,
   "metadata": {},
   "outputs": [
    {
     "name": "stdout",
     "output_type": "stream",
     "text": [
      "Requirement already satisfied: pydantic in /Users/chris/.pyenv/versions/3.9.10/lib/python3.9/site-packages (1.9.2)\n",
      "Requirement already satisfied: typing-extensions>=3.7.4.3 in /Users/chris/.pyenv/versions/3.9.10/lib/python3.9/site-packages (from pydantic) (4.1.1)\n",
      "\n",
      "\u001b[1m[\u001b[0m\u001b[34;49mnotice\u001b[0m\u001b[1;39;49m]\u001b[0m\u001b[39;49m A new release of pip available: \u001b[0m\u001b[31;49m22.1.2\u001b[0m\u001b[39;49m -> \u001b[0m\u001b[32;49m22.2.2\u001b[0m\n",
      "\u001b[1m[\u001b[0m\u001b[34;49mnotice\u001b[0m\u001b[1;39;49m]\u001b[0m\u001b[39;49m To update, run: \u001b[0m\u001b[32;49mpip install --upgrade pip\u001b[0m\n",
      "Note: you may need to restart the kernel to use updated packages.\n"
     ]
    }
   ],
   "source": [
    "%pip install pydantic"
   ]
  },
  {
   "cell_type": "code",
   "execution_count": 2,
   "metadata": {},
   "outputs": [],
   "source": [
    "from pydantic import BaseModel\n",
    "\n",
    "class User(BaseModel):\n",
    "    id: int\n",
    "    name = 'Jane Doe'"
   ]
  },
  {
   "cell_type": "markdown",
   "metadata": {},
   "source": [
    "여기서 사용자는 두 개의 필드 ID가 정수이고 필수 필드이며 이름이 문자열이고 필요하지 않은 모델입니다(기본값이 있음). name 유형은 기본값에서 유추되므로 typing 주석이 필요하지 않습니다(그러나 일부 필드에 형식 주석이 없는 경우 필드 순서에 대한 이 경고를 참고하십시오)."
   ]
  },
  {
   "cell_type": "code",
   "execution_count": 4,
   "metadata": {},
   "outputs": [],
   "source": [
    "user = User(id='123')"
   ]
  },
  {
   "cell_type": "markdown",
   "metadata": {},
   "source": [
    "여기서 user는 User의 인스턴스입니다. 개체를 초기화하면 모든 파싱 및 유효성 검사가 수행되며, 유효성 검사 오류가 발생하지 않으면 결과 모델 인스턴스가 유효하다는 것을 알 수 있습니다."
   ]
  },
  {
   "cell_type": "code",
   "execution_count": 5,
   "metadata": {},
   "outputs": [],
   "source": [
    "assert user.id == 123"
   ]
  },
  {
   "cell_type": "markdown",
   "metadata": {},
   "source": [
    "User를 초기화할 때 name이 설정되지 않았으므로 기본값을 가집니다."
   ]
  },
  {
   "cell_type": "code",
   "execution_count": 10,
   "metadata": {},
   "outputs": [],
   "source": [
    "assert user.name == 'Jane Doe'"
   ]
  },
  {
   "cell_type": "markdown",
   "metadata": {},
   "source": [
    "User가 초기화될 때 설정된 필드입니다."
   ]
  },
  {
   "cell_type": "code",
   "execution_count": 7,
   "metadata": {},
   "outputs": [],
   "source": [
    "assert user.__fields_set__ == {'id'}"
   ]
  },
  {
   "cell_type": "markdown",
   "metadata": {},
   "source": [
    ".dict() 또는 dict(user)는 dict 형태의 데이터를 제공하지만 .dict() 함수에서는 다른 파라미터를 설정하여 사용할 수 있습니다."
   ]
  },
  {
   "cell_type": "code",
   "execution_count": 8,
   "metadata": {},
   "outputs": [],
   "source": [
    "assert user.dict() == dict(user) == {'id': 123, 'name': 'Jane Doe'}"
   ]
  },
  {
   "cell_type": "code",
   "execution_count": 9,
   "metadata": {},
   "outputs": [],
   "source": [
    "user.id = 321\n",
    "assert user.id == 321"
   ]
  },
  {
   "cell_type": "code",
   "execution_count": null,
   "metadata": {},
   "outputs": [],
   "source": []
  }
 ],
 "metadata": {
  "kernelspec": {
   "display_name": "Python 3.9.10 64-bit ('shims')",
   "language": "python",
   "name": "python3"
  },
  "language_info": {
   "codemirror_mode": {
    "name": "ipython",
    "version": 3
   },
   "file_extension": ".py",
   "mimetype": "text/x-python",
   "name": "python",
   "nbconvert_exporter": "python",
   "pygments_lexer": "ipython3",
   "version": "3.9.10"
  },
  "orig_nbformat": 4,
  "vscode": {
   "interpreter": {
    "hash": "5a99157f1181868b3be2fee94e90376036deec931fbb1ca7e12513276413c8a7"
   }
  }
 },
 "nbformat": 4,
 "nbformat_minor": 2
}

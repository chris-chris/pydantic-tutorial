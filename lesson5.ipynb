{
 "cells": [
  {
   "cell_type": "code",
   "execution_count": 1,
   "metadata": {},
   "outputs": [],
   "source": [
    "from typing import (\n",
    "    Deque, Dict, FrozenSet, List, Optional, Sequence, Set, Tuple, Union\n",
    ")\n",
    "\n",
    "from pydantic import BaseModel\n",
    "\n",
    "\n",
    "class Model(BaseModel):\n",
    "    simple_list: list = None\n",
    "    list_of_ints: List[int] = None\n",
    "\n",
    "    simple_tuple: tuple = None\n",
    "    tuple_of_different_types: Tuple[int, float, str, bool] = None\n",
    "\n",
    "    simple_dict: dict = None\n",
    "    dict_str_float: Dict[str, float] = None\n",
    "\n",
    "    simple_set: set = None\n",
    "    set_bytes: Set[bytes] = None\n",
    "    frozen_set: FrozenSet[int] = None\n",
    "\n",
    "    str_or_bytes: Union[str, bytes] = None\n",
    "    none_or_str: Optional[str] = None\n",
    "\n",
    "    sequence_of_ints: Sequence[int] = None\n",
    "\n",
    "    compound: Dict[Union[str, bytes], List[Set[int]]] = None\n",
    "\n",
    "    deque: Deque[int] = None"
   ]
  },
  {
   "cell_type": "code",
   "execution_count": 2,
   "metadata": {},
   "outputs": [
    {
     "name": "stdout",
     "output_type": "stream",
     "text": [
      "['1', '2', '3']\n",
      "[1, 2, 3]\n"
     ]
    }
   ],
   "source": [
    "print(Model(simple_list=['1', '2', '3']).simple_list)\n",
    "#> ['1', '2', '3']\n",
    "print(Model(list_of_ints=['1', '2', '3']).list_of_ints)\n",
    "#> [1, 2, 3]"
   ]
  },
  {
   "cell_type": "code",
   "execution_count": 3,
   "metadata": {},
   "outputs": [
    {
     "name": "stdout",
     "output_type": "stream",
     "text": [
      "{'a': 1, b'b': 2}\n",
      "{'a': 1.0, 'b': 2.0}\n"
     ]
    }
   ],
   "source": [
    "print(Model(simple_dict={'a': 1, b'b': 2}).simple_dict)\n",
    "#> {'a': 1, b'b': 2}\n",
    "print(Model(dict_str_float={'a': 1, b'b': 2}).dict_str_float)\n",
    "#> {'a': 1.0, 'b': 2.0}"
   ]
  },
  {
   "cell_type": "code",
   "execution_count": 4,
   "metadata": {},
   "outputs": [
    {
     "name": "stdout",
     "output_type": "stream",
     "text": [
      "(1, 2, 3, 4)\n",
      "(4, 3.0, '2', True)\n"
     ]
    }
   ],
   "source": [
    "print(Model(simple_tuple=[1, 2, 3, 4]).simple_tuple)\n",
    "#> (1, 2, 3, 4)\n",
    "print(Model(tuple_of_different_types=[4, 3, 2, 1]).tuple_of_different_types)\n",
    "#> (4, 3.0, '2', True)"
   ]
  },
  {
   "cell_type": "code",
   "execution_count": 5,
   "metadata": {},
   "outputs": [
    {
     "name": "stdout",
     "output_type": "stream",
     "text": [
      "[1, 2, 3, 4]\n",
      "(1, 2, 3, 4)\n"
     ]
    }
   ],
   "source": [
    "print(Model(sequence_of_ints=[1, 2, 3, 4]).sequence_of_ints)\n",
    "#> [1, 2, 3, 4]\n",
    "print(Model(sequence_of_ints=(1, 2, 3, 4)).sequence_of_ints)\n",
    "#> (1, 2, 3, 4)\n"
   ]
  },
  {
   "cell_type": "code",
   "execution_count": 6,
   "metadata": {},
   "outputs": [
    {
     "name": "stdout",
     "output_type": "stream",
     "text": [
      "deque([1, 2, 3])\n"
     ]
    }
   ],
   "source": [
    "print(Model(deque=[1, 2, 3]).deque)\n",
    "#> deque([1, 2, 3])\n"
   ]
  },
  {
   "cell_type": "code",
   "execution_count": 7,
   "metadata": {},
   "outputs": [],
   "source": [
    "from typing import Iterable\n",
    "from pydantic import BaseModel\n",
    "\n",
    "\n",
    "class Model(BaseModel):\n",
    "    infinite: Iterable[int]\n",
    "\n",
    "\n",
    "def infinite_ints():\n",
    "    i = 0\n",
    "    while True:\n",
    "        yield i\n",
    "        i += 1"
   ]
  },
  {
   "cell_type": "code",
   "execution_count": 8,
   "metadata": {},
   "outputs": [
    {
     "name": "stdout",
     "output_type": "stream",
     "text": [
      "infinite=<generator object infinite_ints at 0x10e5c2900>\n"
     ]
    }
   ],
   "source": [
    "m = Model(infinite=infinite_ints())\n",
    "print(m)\n",
    "#> infinite=<generator object infinite_ints at 0x7f3a209d55b0>"
   ]
  },
  {
   "cell_type": "code",
   "execution_count": 9,
   "metadata": {},
   "outputs": [
    {
     "name": "stdout",
     "output_type": "stream",
     "text": [
      "0\n",
      "1\n",
      "2\n",
      "3\n",
      "4\n",
      "5\n",
      "6\n",
      "7\n",
      "8\n",
      "9\n",
      "10\n"
     ]
    }
   ],
   "source": [
    "for i in m.infinite:\n",
    "    print(i)\n",
    "    if i == 10:\n",
    "        break"
   ]
  },
  {
   "cell_type": "code",
   "execution_count": null,
   "metadata": {},
   "outputs": [],
   "source": []
  }
 ],
 "metadata": {
  "kernelspec": {
   "display_name": "Python 3.9.10 64-bit ('shims')",
   "language": "python",
   "name": "python3"
  },
  "language_info": {
   "codemirror_mode": {
    "name": "ipython",
    "version": 3
   },
   "file_extension": ".py",
   "mimetype": "text/x-python",
   "name": "python",
   "nbconvert_exporter": "python",
   "pygments_lexer": "ipython3",
   "version": "3.9.10"
  },
  "orig_nbformat": 4,
  "vscode": {
   "interpreter": {
    "hash": "5a99157f1181868b3be2fee94e90376036deec931fbb1ca7e12513276413c8a7"
   }
  }
 },
 "nbformat": 4,
 "nbformat_minor": 2
}
